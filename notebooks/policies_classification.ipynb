{
 "cells": [
  {
   "cell_type": "markdown",
   "id": "3f138005",
   "metadata": {},
   "source": [
    "# Imports"
   ]
  },
  {
   "cell_type": "code",
   "execution_count": 1,
   "id": "607f5ad4",
   "metadata": {},
   "outputs": [],
   "source": [
    "import random\n",
    "\n",
    "import pandas as pd\n",
    "\n",
    "import torch\n",
    "from torch.utils.data import DataLoader, TensorDataset\n",
    "import torch.nn as nn\n",
    "\n",
    "from sklearn.preprocessing import MinMaxScaler\n",
    "\n",
    "\n",
    "\n",
    "from utils.data_utils import scale_data_per_country\n",
    "from utils.model_utils import StackedLSTM, init_weights"
   ]
  },
  {
   "cell_type": "markdown",
   "id": "a5db6836",
   "metadata": {},
   "source": [
    "# Data"
   ]
  },
  {
   "cell_type": "code",
   "execution_count": 2,
   "id": "fc4cf5ea",
   "metadata": {},
   "outputs": [],
   "source": [
    "def get_pd_from_pkl(path: str) -> pd.DataFrame:\n",
    "    df = pd.read_pickle(path)\n",
    "    return df\n",
    "# df = get_pd_from_pkl(path=r\"data\\training_data\\training_added_feats_no_hospital.pkl\")\n",
    "# df = get_pd_from_pkl(path=r\"data\\training_data\\training_data_v1.0.pkl\")\n",
    "df = get_pd_from_pkl(path=\"data/training_data/training_datav2_0-weekly.pkl\")\n",
    "# df_policies = get_pd_from_pkl(path=r\"data\\all_policies\\policies_individual_final.pkl\")\n",
    "# df_vaccines = get_pd_from_pkl(path=r\"data\\timeseries_pickles\\additional_features\\better_vaccine_data.pkl\")\n",
    "df_hospital = get_pd_from_pkl(path = r'data\\timeseries_pickles\\additional_features\\weekly_hospital_data.pkl')"
   ]
  },
  {
   "cell_type": "code",
   "execution_count": 3,
   "id": "7e87b3e3",
   "metadata": {},
   "outputs": [
    {
     "data": {
      "text/html": [
       "<div>\n",
       "<style scoped>\n",
       "    .dataframe tbody tr th:only-of-type {\n",
       "        vertical-align: middle;\n",
       "    }\n",
       "\n",
       "    .dataframe tbody tr th {\n",
       "        vertical-align: top;\n",
       "    }\n",
       "\n",
       "    .dataframe thead th {\n",
       "        text-align: right;\n",
       "    }\n",
       "</style>\n",
       "<table border=\"1\" class=\"dataframe\">\n",
       "  <thead>\n",
       "    <tr style=\"text-align: right;\">\n",
       "      <th>indicator</th>\n",
       "      <th>date</th>\n",
       "      <th>Weekly new ICU admissions</th>\n",
       "      <th>Weekly new ICU admissions per million</th>\n",
       "      <th>Weekly new hospital admissions</th>\n",
       "      <th>Weekly new hospital admissions per million</th>\n",
       "      <th>entity</th>\n",
       "      <th>iso_code</th>\n",
       "    </tr>\n",
       "  </thead>\n",
       "  <tbody>\n",
       "    <tr>\n",
       "      <th>0</th>\n",
       "      <td>2020-04-19</td>\n",
       "      <td>184.000000</td>\n",
       "      <td>9.386000</td>\n",
       "      <td>579.600000</td>\n",
       "      <td>29.565800</td>\n",
       "      <td>Chile</td>\n",
       "      <td>CHL</td>\n",
       "    </tr>\n",
       "    <tr>\n",
       "      <th>1</th>\n",
       "      <td>2020-04-26</td>\n",
       "      <td>221.285714</td>\n",
       "      <td>11.287857</td>\n",
       "      <td>643.714286</td>\n",
       "      <td>32.836429</td>\n",
       "      <td>Chile</td>\n",
       "      <td>CHL</td>\n",
       "    </tr>\n",
       "    <tr>\n",
       "      <th>2</th>\n",
       "      <td>2020-05-03</td>\n",
       "      <td>211.714286</td>\n",
       "      <td>10.799429</td>\n",
       "      <td>846.142857</td>\n",
       "      <td>43.162571</td>\n",
       "      <td>Chile</td>\n",
       "      <td>CHL</td>\n",
       "    </tr>\n",
       "    <tr>\n",
       "      <th>3</th>\n",
       "      <td>2020-05-10</td>\n",
       "      <td>270.000000</td>\n",
       "      <td>13.773000</td>\n",
       "      <td>1382.714286</td>\n",
       "      <td>70.533429</td>\n",
       "      <td>Chile</td>\n",
       "      <td>CHL</td>\n",
       "    </tr>\n",
       "    <tr>\n",
       "      <th>4</th>\n",
       "      <td>2020-05-17</td>\n",
       "      <td>388.714286</td>\n",
       "      <td>19.828714</td>\n",
       "      <td>2158.857143</td>\n",
       "      <td>110.124714</td>\n",
       "      <td>Chile</td>\n",
       "      <td>CHL</td>\n",
       "    </tr>\n",
       "    <tr>\n",
       "      <th>...</th>\n",
       "      <td>...</td>\n",
       "      <td>...</td>\n",
       "      <td>...</td>\n",
       "      <td>...</td>\n",
       "      <td>...</td>\n",
       "      <td>...</td>\n",
       "      <td>...</td>\n",
       "    </tr>\n",
       "    <tr>\n",
       "      <th>2174</th>\n",
       "      <td>2022-12-04</td>\n",
       "      <td>198.428571</td>\n",
       "      <td>4.172143</td>\n",
       "      <td>3224.000000</td>\n",
       "      <td>67.790000</td>\n",
       "      <td>Spain</td>\n",
       "      <td>ESP</td>\n",
       "    </tr>\n",
       "    <tr>\n",
       "      <th>2175</th>\n",
       "      <td>2022-12-11</td>\n",
       "      <td>220.142857</td>\n",
       "      <td>4.629000</td>\n",
       "      <td>3291.000000</td>\n",
       "      <td>69.198857</td>\n",
       "      <td>Spain</td>\n",
       "      <td>ESP</td>\n",
       "    </tr>\n",
       "    <tr>\n",
       "      <th>2176</th>\n",
       "      <td>2022-12-18</td>\n",
       "      <td>221.285714</td>\n",
       "      <td>4.652857</td>\n",
       "      <td>3520.857143</td>\n",
       "      <td>74.031857</td>\n",
       "      <td>Spain</td>\n",
       "      <td>ESP</td>\n",
       "    </tr>\n",
       "    <tr>\n",
       "      <th>2177</th>\n",
       "      <td>2022-12-25</td>\n",
       "      <td>199.000000</td>\n",
       "      <td>4.184000</td>\n",
       "      <td>3214.142857</td>\n",
       "      <td>67.582714</td>\n",
       "      <td>Spain</td>\n",
       "      <td>ESP</td>\n",
       "    </tr>\n",
       "    <tr>\n",
       "      <th>2178</th>\n",
       "      <td>2023-01-01</td>\n",
       "      <td>185.714286</td>\n",
       "      <td>3.905000</td>\n",
       "      <td>3038.142857</td>\n",
       "      <td>63.882143</td>\n",
       "      <td>Spain</td>\n",
       "      <td>ESP</td>\n",
       "    </tr>\n",
       "  </tbody>\n",
       "</table>\n",
       "<p>2179 rows × 7 columns</p>\n",
       "</div>"
      ],
      "text/plain": [
       "indicator       date  Weekly new ICU admissions  \\\n",
       "0         2020-04-19                 184.000000   \n",
       "1         2020-04-26                 221.285714   \n",
       "2         2020-05-03                 211.714286   \n",
       "3         2020-05-10                 270.000000   \n",
       "4         2020-05-17                 388.714286   \n",
       "...              ...                        ...   \n",
       "2174      2022-12-04                 198.428571   \n",
       "2175      2022-12-11                 220.142857   \n",
       "2176      2022-12-18                 221.285714   \n",
       "2177      2022-12-25                 199.000000   \n",
       "2178      2023-01-01                 185.714286   \n",
       "\n",
       "indicator  Weekly new ICU admissions per million  \\\n",
       "0                                       9.386000   \n",
       "1                                      11.287857   \n",
       "2                                      10.799429   \n",
       "3                                      13.773000   \n",
       "4                                      19.828714   \n",
       "...                                          ...   \n",
       "2174                                    4.172143   \n",
       "2175                                    4.629000   \n",
       "2176                                    4.652857   \n",
       "2177                                    4.184000   \n",
       "2178                                    3.905000   \n",
       "\n",
       "indicator  Weekly new hospital admissions  \\\n",
       "0                              579.600000   \n",
       "1                              643.714286   \n",
       "2                              846.142857   \n",
       "3                             1382.714286   \n",
       "4                             2158.857143   \n",
       "...                                   ...   \n",
       "2174                          3224.000000   \n",
       "2175                          3291.000000   \n",
       "2176                          3520.857143   \n",
       "2177                          3214.142857   \n",
       "2178                          3038.142857   \n",
       "\n",
       "indicator  Weekly new hospital admissions per million entity iso_code  \n",
       "0                                           29.565800  Chile      CHL  \n",
       "1                                           32.836429  Chile      CHL  \n",
       "2                                           43.162571  Chile      CHL  \n",
       "3                                           70.533429  Chile      CHL  \n",
       "4                                          110.124714  Chile      CHL  \n",
       "...                                               ...    ...      ...  \n",
       "2174                                        67.790000  Spain      ESP  \n",
       "2175                                        69.198857  Spain      ESP  \n",
       "2176                                        74.031857  Spain      ESP  \n",
       "2177                                        67.582714  Spain      ESP  \n",
       "2178                                        63.882143  Spain      ESP  \n",
       "\n",
       "[2179 rows x 7 columns]"
      ]
     },
     "execution_count": 3,
     "metadata": {},
     "output_type": "execute_result"
    }
   ],
   "source": [
    "df_hospital"
   ]
  },
  {
   "cell_type": "code",
   "execution_count": 4,
   "id": "59fa838b",
   "metadata": {},
   "outputs": [
    {
     "name": "stdout",
     "output_type": "stream",
     "text": [
      "Index(['location', 'date', 'weekly_cases', 'C', 'E', 'G', 'S',\n",
      "       'biweekly_cases', 'biweekly_deaths', 'new_cases', 'new_deaths',\n",
      "       'total_cases', 'total_deaths', 'weekly_deaths'],\n",
      "      dtype='object')\n"
     ]
    }
   ],
   "source": [
    "print(df.columns)\n",
    "\n",
    "feature_columns = ['C', 'G', 'S', 'new_cases']\n",
    "info_columns = ['location', 'date']\n",
    "\n",
    "used_columns = info_columns + feature_columns"
   ]
  },
  {
   "cell_type": "markdown",
   "id": "34128978",
   "metadata": {},
   "source": [
    "# Build Classification"
   ]
  },
  {
   "cell_type": "code",
   "execution_count": 5,
   "id": "eb265421",
   "metadata": {},
   "outputs": [],
   "source": [
    "df_adapt  = df[used_columns].copy()\n",
    "all_countries = df_adapt['location'].unique()   \n",
    "\n",
    "df_adapt['policy'] = df_adapt[['C', 'G', 'S']].mean(axis=1)\n",
    "\n",
    "bins = list(range(0, 101, 1))\n",
    "labels = list(range(len(bins) - 1))\n",
    "df_adapt['clf_policy'] = pd.cut(df_adapt['policy'], bins=bins, labels=labels, include_lowest=True, right=True)\n",
    "df = df_adapt.copy()"
   ]
  },
  {
   "cell_type": "code",
   "execution_count": 6,
   "id": "2ec46063",
   "metadata": {},
   "outputs": [
    {
     "name": "stdout",
     "output_type": "stream",
     "text": [
      "Index(['location', 'date', 'C', 'G', 'S', 'new_cases', 'policy', 'clf_policy'], dtype='object')\n"
     ]
    }
   ],
   "source": [
    "# feature_columns = ['new_cases', 'C', 'E', 'G', 'S']\n",
    "# info_columns = ['location', 'date']\n",
    "# used_columns = feature_columns + info_columns\n",
    "\n",
    "\n",
    "#especific per quan fem servir les dades de policies disgregagades\n",
    "print(df.columns)\n",
    "feature_columns = ['clf_policy']\n",
    "info_columns = ['location', 'date']\n",
    "target_column = 'clf_policy'\n",
    "used_columns = feature_columns + info_columns"
   ]
  },
  {
   "cell_type": "code",
   "execution_count": 7,
   "id": "46938cae",
   "metadata": {},
   "outputs": [],
   "source": [
    "full_data = df[used_columns].fillna(0).copy()\n",
    "# full_data = full_data[['location', 'C', 'E', 'G', 'S', 'weekly_deaths', 'weekly_cases']]\n",
    "#per afegir noves features\n",
    "# full_data = full_data[features]\n",
    "full_data.loc[:, 'target'] = full_data[target_column]\n",
    "\n",
    "# Filter out locations that appear less than 20 times\n",
    "location_counts = full_data['location'].value_counts()\n",
    "valid_locations = location_counts[location_counts >= 20].index\n",
    "full_data = full_data[full_data['location'].isin(valid_locations)]"
   ]
  },
  {
   "cell_type": "code",
   "execution_count": 8,
   "id": "f2f9fd57",
   "metadata": {},
   "outputs": [
    {
     "data": {
      "text/plain": [
       "['clf_policy']"
      ]
     },
     "execution_count": 8,
     "metadata": {},
     "output_type": "execute_result"
    }
   ],
   "source": [
    "target_in_data = True\n",
    "if not target_in_data:\n",
    "    #TREURE LES NEW_CASES\n",
    "    full_data = full_data.drop(columns=[target_column])\n",
    "    feature_columns.remove(target_column)\n",
    "feature_columns"
   ]
  },
  {
   "cell_type": "code",
   "execution_count": 9,
   "id": "b8d82e5e",
   "metadata": {},
   "outputs": [],
   "source": [
    "random.seed(42)  # Set the random seed for reproducibility\n",
    "target_country = random.sample(list(full_data.location.unique()), 8)\n",
    "target_country = ['Spain']"
   ]
  },
  {
   "cell_type": "code",
   "execution_count": 10,
   "id": "63b81ab8",
   "metadata": {},
   "outputs": [],
   "source": [
    "train_data = full_data[~full_data['location'].isin(target_country)].copy()\n",
    "test_data = full_data[full_data['location'].isin(target_country)].copy()"
   ]
  },
  {
   "cell_type": "code",
   "execution_count": 11,
   "id": "21afd31a",
   "metadata": {},
   "outputs": [],
   "source": [
    "# feature_columns = ['C', 'E', 'G', 'S', 'weekly_deaths', 'weekly_cases']\n",
    "feature_columns = feature_columns\n",
    "target_column = \"target\"\n",
    "\n",
    "#Get Train data\n",
    "\n",
    "#Initialize scaler\n",
    "scaler_X_train = MinMaxScaler()\n",
    "scaler_y_train = MinMaxScaler()\n",
    "y_train, X_train = scale_data_per_country(\n",
    "                                    df=train_data, feature_columns=feature_columns,\n",
    "                                    countries=list(train_data['location'].unique()),\n",
    "                                    target_column=target_column, scaler=scaler_X_train\n",
    "                                    )\n",
    "\n",
    "#Get Test data\n",
    "scaler_X_test = MinMaxScaler()\n",
    "scaler_y_test = MinMaxScaler()\n",
    "y_test, X_test = scale_data_per_country(\n",
    "                                    df=test_data, feature_columns=feature_columns,\n",
    "                                    countries=list(test_data['location'].unique()),\n",
    "                                    target_column=target_column, scaler=scaler_y_test,\n",
    "                                    seq_length=4\n",
    "                                    )\n"
   ]
  },
  {
   "cell_type": "markdown",
   "id": "683b7fde",
   "metadata": {},
   "source": [
    "# Training"
   ]
  },
  {
   "cell_type": "code",
   "execution_count": 12,
   "id": "69cfc65e",
   "metadata": {},
   "outputs": [
    {
     "data": {
      "text/plain": [
       "device(type='cuda')"
      ]
     },
     "execution_count": 12,
     "metadata": {},
     "output_type": "execute_result"
    }
   ],
   "source": [
    "device = torch.device(\"cuda\" if torch.cuda.is_available() else \"cpu\")\n",
    "device"
   ]
  },
  {
   "cell_type": "code",
   "execution_count": 13,
   "id": "b9c596a4",
   "metadata": {},
   "outputs": [],
   "source": [
    "# Convert to PyTorch tensors\n",
    "X_train_tensor = torch.tensor(X_train, dtype=torch.float32).to(device)\n",
    "y_train_tensor = torch.tensor(y_train, dtype=torch.float32).unsqueeze(-1).to(device)\n",
    "X_test_tensor = torch.tensor(X_test, dtype=torch.float32).to(device)\n",
    "y_test_tensor = torch.tensor(y_test, dtype=torch.float32).unsqueeze(-1).to(device)\n",
    "\n",
    "# Create DataLoader\n",
    "batch_size = 32\n",
    "train_dataset = TensorDataset(X_train_tensor, y_train_tensor)\n",
    "test_dataset = TensorDataset(X_test_tensor, y_test_tensor)\n",
    "\n",
    "train_loader = DataLoader(train_dataset, batch_size=batch_size, shuffle=False)\n",
    "test_loader = DataLoader(test_dataset, batch_size=batch_size, shuffle=False)"
   ]
  },
  {
   "cell_type": "code",
   "execution_count": 14,
   "id": "6bb7ff04",
   "metadata": {},
   "outputs": [],
   "source": [
    "def init_model(input_size:int, hidden_size:int, num_layers:int, output_size:int) -> nn.Module:\n",
    "    \"\"\"Instantiates the model and initializes weights.\n",
    "    The model is a stacked LSTM with the specified input size, \n",
    "    hidden size, number of layers, and output size.\n",
    "\n",
    "    Args:\n",
    "        input_size (int): Input size to the LSTM layer.\n",
    "        hidden_size (int): Hidden size of the LSTM layer.\n",
    "        num_layers (int): Number of LSTM layers.\n",
    "        output_size (int): Output size of the model.\n",
    "\n",
    "    Returns:\n",
    "        nn.Module: The initialized model.\n",
    "    \"\"\"\n",
    "    model = StackedLSTM(input_size, hidden_size, num_layers, output_size)\n",
    "    model.apply(init_weights)\n",
    "    return model.to(device)"
   ]
  },
  {
   "cell_type": "code",
   "execution_count": 15,
   "id": "794717ea",
   "metadata": {},
   "outputs": [],
   "source": [
    "input_size= X_train.shape[2]\n",
    "hidden_size=128\n",
    "num_layers= 1\n",
    "output_size=1\n",
    "learning_rate=0.001\n",
    "weight_decay = 1e-4\n",
    "\n",
    "model = init_model(input_size, hidden_size, num_layers, output_size)\n",
    "\n",
    "# Define loss function and optimizer\n",
    "criterion = nn.MSELoss()  # Mean Squared Error loss\n",
    "optimizer = torch.optim.Adam(model.parameters(), lr=learning_rate, weight_decay=weight_decay)"
   ]
  },
  {
   "cell_type": "code",
   "execution_count": 16,
   "id": "6e3f8287",
   "metadata": {},
   "outputs": [
    {
     "name": "stdout",
     "output_type": "stream",
     "text": [
      "Epoch [10/60] - Train Loss: 0.0028, RMSE (Test): 0.0494\n",
      "Epoch [20/60] - Train Loss: 0.0023, RMSE (Test): 0.0458\n",
      "Epoch [30/60] - Train Loss: 0.0022, RMSE (Test): 0.0461\n",
      "Epoch [40/60] - Train Loss: 0.0021, RMSE (Test): 0.0455\n",
      "Epoch [50/60] - Train Loss: 0.0021, RMSE (Test): 0.0454\n",
      "Epoch [60/60] - Train Loss: 0.0021, RMSE (Test): 0.0455\n"
     ]
    }
   ],
   "source": [
    "import matplotlib.pyplot as plt\n",
    "from sklearn.metrics import mean_squared_error\n",
    "import numpy as np\n",
    "\n",
    "# Initialize training parameters\n",
    "num_epochs = 60 # Adjust as needed\n",
    "print_every = 10  # Set how often to print\n",
    "\n",
    "# Store losses\n",
    "train_losses = []\n",
    "val_losses = []  # This will now store RMSE on test set per epoch\n",
    "\n",
    "# Start training\n",
    "for epoch in range(num_epochs):\n",
    "    model.train()\n",
    "    train_loss = 0\n",
    "\n",
    "    # Only keep predictions and inputs from the last epoch\n",
    "    if epoch == num_epochs - 1:\n",
    "        predictions_last = []\n",
    "        actuals_last = []\n",
    "        inputs_last = []\n",
    "\n",
    "    # Training loop\n",
    "    for batch_idx, (X_batch, y_batch) in enumerate(train_loader):\n",
    "        X_batch, y_batch = X_batch.to(device), y_batch.to(device)\n",
    "\n",
    "        optimizer.zero_grad()\n",
    "        y_pred = model(X_batch)\n",
    "        loss = criterion(y_pred, y_batch)\n",
    "        loss.backward()\n",
    "        optimizer.step()\n",
    "\n",
    "        train_loss += loss.item()\n",
    "\n",
    "        if epoch == num_epochs - 1:\n",
    "            predictions_last.extend(y_pred.cpu().detach().numpy())\n",
    "            actuals_last.extend(y_batch.cpu().numpy())\n",
    "            inputs_last.extend(X_batch.cpu().numpy())\n",
    "\n",
    "    # Compute average training loss\n",
    "    avg_train_loss = train_loss / len(train_loader)\n",
    "    train_losses.append(avg_train_loss)\n",
    "\n",
    "    # --- RMSE Validation loop on test set ---\n",
    "    model.eval()\n",
    "    test_predictions = []\n",
    "    test_actuals = []\n",
    "\n",
    "    with torch.no_grad():\n",
    "        for i in range(len(X_test_tensor)):\n",
    "            X_val = X_test_tensor[i].unsqueeze(0).to(device)\n",
    "            y_val = y_test_tensor[i].unsqueeze(0).to(device)\n",
    "\n",
    "            y_pred = model(X_val)\n",
    "            test_predictions.append(y_pred.cpu().numpy().flatten()[0])\n",
    "            test_actuals.append(y_val.cpu().numpy().flatten()[0])\n",
    "\n",
    "    # Compute RMSE as validation loss\n",
    "    rmse_val = np.sqrt(mean_squared_error(test_actuals, test_predictions))\n",
    "    val_losses.append(rmse_val)\n",
    "\n",
    "    # Print losses\n",
    "    if (epoch + 1) % print_every == 0 or epoch == num_epochs - 1:\n",
    "        print(f\"Epoch [{epoch + 1}/{num_epochs}] - Train Loss: {avg_train_loss:.4f}, RMSE (Test): {rmse_val:.4f}\")\n"
   ]
  },
  {
   "cell_type": "code",
   "execution_count": 17,
   "id": "749e7df2",
   "metadata": {},
   "outputs": [],
   "source": [
    "model.eval()\n",
    "train_predictions = []\n",
    "train_actuals = []\n",
    "\n",
    "with torch.no_grad():\n",
    "    for X_batch, y_batch in train_loader:\n",
    "        X_batch = X_batch.to(device)\n",
    "        y_batch = y_batch.to(device)\n",
    "\n",
    "        y_pred = model(X_batch)\n",
    "        train_predictions.append(y_pred.cpu())\n",
    "        train_actuals.append(y_batch.cpu())\n",
    "\n",
    "# Convert to tensors or numpy\n",
    "train_predictions = torch.cat(train_predictions).numpy()\n",
    "train_actuals = torch.cat(train_actuals).numpy()\n"
   ]
  },
  {
   "cell_type": "code",
   "execution_count": 18,
   "id": "867e60c7",
   "metadata": {},
   "outputs": [
    {
     "name": "stdout",
     "output_type": "stream",
     "text": [
      "\n",
      "Test Country Metrics:\n",
      "MAE: 0.0215\n",
      "RMSE: 0.0455\n",
      "R2 Score: 0.9623\n"
     ]
    }
   ],
   "source": [
    "from sklearn.metrics import mean_absolute_error, mean_squared_error, r2_score\n",
    "import numpy as np\n",
    "import json\n",
    "import os\n",
    "import matplotlib.pyplot as plt\n",
    "\n",
    "# Convert to numpy arrays\n",
    "preds = np.array(test_predictions)\n",
    "actuals = np.array(test_actuals)\n",
    "\n",
    "# Compute metrics\n",
    "mae = mean_absolute_error(actuals, preds)\n",
    "rmse = np.sqrt(mean_squared_error(actuals, preds))\n",
    "r2 = r2_score(actuals, preds)\n",
    "\n",
    "print(f\"\\nTest Country Metrics:\")\n",
    "print(f\"MAE: {mae:.4f}\")\n",
    "print(f\"RMSE: {rmse:.4f}\")\n",
    "print(f\"R2 Score: {r2:.4f}\")\n",
    "\n",
    "# Save metrics\n",
    "test_country = target_country  # or whatever test country you're working with\n",
    "metrics = {\n",
    "    \"country\": test_country,\n",
    "    \"mae\": mae,\n",
    "    \"rmse\": rmse,\n",
    "    \"r2\": r2\n",
    "}\n",
    "\n",
    "# os.makedirs(\"results\", exist_ok=True)\n",
    "# with open(f\"results/metrics_{test_country}.json\", \"w\") as f:\n",
    "#     json.dump(metrics, f, indent=4)\n"
   ]
  },
  {
   "cell_type": "code",
   "execution_count": 19,
   "id": "2dd1ee49",
   "metadata": {},
   "outputs": [
    {
     "data": {
      "image/png": "[encoded data removed]",
      "text/plain": [
       "<Figure size 1200x600 with 1 Axes>"
      ]
     },
     "metadata": {},
     "output_type": "display_data"
    }
   ],
   "source": [
    "# Plot actual vs predicted\n",
    "plt.figure(figsize=(12, 6))\n",
    "plt.plot(actuals, label='Actual', linewidth=2)\n",
    "plt.plot(preds, label='Predicted', linestyle='--')\n",
    "plt.title(f\"{test_country} – Actual vs Predicted\")\n",
    "plt.xlabel(\"Time Step\")\n",
    "plt.ylabel(\"New Cases\")\n",
    "plt.legend()\n",
    "plt.grid(True)\n",
    "plt.tight_layout()\n",
    "plt.savefig(f\"results/prediction_plot_{test_country}.png\")\n",
    "plt.show()"
   ]
  }
 ],
 "metadata": {
  "kernelspec": {
   "display_name": ".venv",
   "language": "python",
   "name": "python3"
  },
  "language_info": {
   "codemirror_mode": {
    "name": "ipython",
    "version": 3
   },
   "file_extension": ".py",
   "mimetype": "text/x-python",
   "name": "python",
   "nbconvert_exporter": "python",
   "pygments_lexer": "ipython3",
   "version": "3.10.11"
  }
 },
 "nbformat": 4,
 "nbformat_minor": 5
}
